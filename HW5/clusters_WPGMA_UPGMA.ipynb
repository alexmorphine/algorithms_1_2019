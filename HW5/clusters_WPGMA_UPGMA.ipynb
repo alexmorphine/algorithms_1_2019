{
 "cells": [
  {
   "cell_type": "code",
   "execution_count": 1,
   "metadata": {},
   "outputs": [],
   "source": [
    "from clustering import WPGMA, UPGMA"
   ]
  },
  {
   "cell_type": "code",
   "execution_count": 2,
   "metadata": {},
   "outputs": [],
   "source": [
    "# Тест 1\n",
    "matrix = [[0, 16, 16, 10], \n",
    "          [16, 0, 8, 8], \n",
    "          [16, 8, 0, 4], \n",
    "          [10, 8, 4, 0]]"
   ]
  },
  {
   "cell_type": "code",
   "execution_count": 3,
   "metadata": {},
   "outputs": [
    {
     "data": {
      "text/plain": [
       "'(A: 7.25, (B: 4.0, (C: 2.0, D: 2.0): 2.0): 3.25)'"
      ]
     },
     "execution_count": 3,
     "metadata": {},
     "output_type": "execute_result"
    }
   ],
   "source": [
    "c = WPGMA(matrix, ['A', 'B', 'C', 'D'])\n",
    "c.linkage"
   ]
  },
  {
   "cell_type": "code",
   "execution_count": 4,
   "metadata": {},
   "outputs": [
    {
     "data": {
      "text/plain": [
       "'(A: 7.0, (B: 4.0, (C: 2.0, D: 2.0): 2.0): 3.0)'"
      ]
     },
     "execution_count": 4,
     "metadata": {},
     "output_type": "execute_result"
    }
   ],
   "source": [
    "c = UPGMA(matrix, ['A', 'B', 'C', 'D'])\n",
    "c.linkage"
   ]
  },
  {
   "cell_type": "code",
   "execution_count": 5,
   "metadata": {},
   "outputs": [],
   "source": [
    "# Тест 2\n",
    "\n",
    "matrix = [[0, 5, 4, 7, 6, 8], \n",
    "          [5, 0, 7, 10, 9, 11], \n",
    "          [4, 7, 0, 7, 6, 8], \n",
    "          [7, 10, 7, 0, 5, 9], \n",
    "          [6, 9, 6, 5, 0, 8], \n",
    "          [8, 11, 8, 9, 8, 0]]"
   ]
  },
  {
   "cell_type": "code",
   "execution_count": 6,
   "metadata": {},
   "outputs": [
    {
     "data": {
      "text/plain": [
       "'(((B: 3.0, (A: 2.0, C: 2.0): 1.0): 1.0, (D: 2.5, E: 2.5): 1.5): 0.5, F: 4.5)'"
      ]
     },
     "execution_count": 6,
     "metadata": {},
     "output_type": "execute_result"
    }
   ],
   "source": [
    "c = WPGMA(matrix, ['A', 'B', 'C', 'D', 'E', 'F'])\n",
    "c.linkage"
   ]
  },
  {
   "cell_type": "code",
   "execution_count": 7,
   "metadata": {},
   "outputs": [
    {
     "data": {
      "text/plain": [
       "'(((B: 3.0, (A: 2.0, C: 2.0): 1.0): 0.75, (D: 2.5, E: 2.5): 1.25): 0.6500000000000004, F: 4.4)'"
      ]
     },
     "execution_count": 7,
     "metadata": {},
     "output_type": "execute_result"
    }
   ],
   "source": [
    "c = UPGMA(matrix, ['A', 'B', 'C', 'D', 'E', 'F'])\n",
    "c.linkage"
   ]
  },
  {
   "cell_type": "code",
   "execution_count": null,
   "metadata": {},
   "outputs": [],
   "source": []
  }
 ],
 "metadata": {
  "kernelspec": {
   "display_name": "Python 3",
   "language": "python",
   "name": "python3"
  },
  "language_info": {
   "codemirror_mode": {
    "name": "ipython",
    "version": 3
   },
   "file_extension": ".py",
   "mimetype": "text/x-python",
   "name": "python",
   "nbconvert_exporter": "python",
   "pygments_lexer": "ipython3",
   "version": "3.6.8"
  }
 },
 "nbformat": 4,
 "nbformat_minor": 2
}
