{
 "cells": [
  {
   "cell_type": "code",
   "execution_count": 1,
   "metadata": {},
   "outputs": [],
   "source": [
    "from hidden_markov_model import HMM"
   ]
  },
  {
   "cell_type": "markdown",
   "metadata": {},
   "source": [
    "# Тест 1"
   ]
  },
  {
   "cell_type": "code",
   "execution_count": 2,
   "metadata": {},
   "outputs": [],
   "source": [
    "pi = {'+': 0.5, '-': 0.5}\n",
    "B = [[0.5, 0.5], [0.1, 0.9]]\n",
    "A = [[0.8, 0.2], [0.2, 0.8]]\n",
    "seq = 'ОРОРОРООРРРРРРРРРРОООООООО'"
   ]
  },
  {
   "cell_type": "code",
   "execution_count": 3,
   "metadata": {},
   "outputs": [],
   "source": [
    "hmm = HMM(pi, A, B, seq, sorted(pi.keys()))"
   ]
  },
  {
   "cell_type": "code",
   "execution_count": 4,
   "metadata": {},
   "outputs": [],
   "source": [
    "hmm.viterbi()"
   ]
  },
  {
   "cell_type": "code",
   "execution_count": 5,
   "metadata": {
    "scrolled": true
   },
   "outputs": [
    {
     "data": {
      "text/plain": [
       "0     +\n",
       "1     +\n",
       "2     +\n",
       "3     +\n",
       "4     +\n",
       "5     +\n",
       "6     +\n",
       "7     +\n",
       "8     +\n",
       "9     +\n",
       "10    -\n",
       "11    -\n",
       "12    -\n",
       "13    -\n",
       "14    -\n",
       "15    -\n",
       "16    -\n",
       "17    -\n",
       "18    +\n",
       "19    +\n",
       "20    +\n",
       "21    +\n",
       "22    +\n",
       "23    +\n",
       "24    +\n",
       "25    +\n",
       "dtype: object"
      ]
     },
     "execution_count": 5,
     "metadata": {},
     "output_type": "execute_result"
    }
   ],
   "source": [
    "hmm.viterbi_matrix.astype(float).idxmax()"
   ]
  },
  {
   "cell_type": "code",
   "execution_count": 6,
   "metadata": {
    "scrolled": true
   },
   "outputs": [
    {
     "data": {
      "text/html": [
       "<div>\n",
       "<style scoped>\n",
       "    .dataframe tbody tr th:only-of-type {\n",
       "        vertical-align: middle;\n",
       "    }\n",
       "\n",
       "    .dataframe tbody tr th {\n",
       "        vertical-align: top;\n",
       "    }\n",
       "\n",
       "    .dataframe thead th {\n",
       "        text-align: right;\n",
       "    }\n",
       "</style>\n",
       "<table border=\"1\" class=\"dataframe\">\n",
       "  <thead>\n",
       "    <tr style=\"text-align: right;\">\n",
       "      <th></th>\n",
       "      <th>0</th>\n",
       "      <th>1</th>\n",
       "      <th>2</th>\n",
       "      <th>3</th>\n",
       "      <th>4</th>\n",
       "      <th>5</th>\n",
       "      <th>6</th>\n",
       "      <th>7</th>\n",
       "      <th>8</th>\n",
       "      <th>9</th>\n",
       "      <th>...</th>\n",
       "      <th>16</th>\n",
       "      <th>17</th>\n",
       "      <th>18</th>\n",
       "      <th>19</th>\n",
       "      <th>20</th>\n",
       "      <th>21</th>\n",
       "      <th>22</th>\n",
       "      <th>23</th>\n",
       "      <th>24</th>\n",
       "      <th>25</th>\n",
       "    </tr>\n",
       "  </thead>\n",
       "  <tbody>\n",
       "    <tr>\n",
       "      <td>+</td>\n",
       "      <td>0.485641</td>\n",
       "      <td>0.351671</td>\n",
       "      <td>0.399518</td>\n",
       "      <td>0.287326</td>\n",
       "      <td>0.323388</td>\n",
       "      <td>0.232246</td>\n",
       "      <td>0.260889</td>\n",
       "      <td>0.258661</td>\n",
       "      <td>0.181935</td>\n",
       "      <td>0.143717</td>\n",
       "      <td>...</td>\n",
       "      <td>0.446583</td>\n",
       "      <td>0.590197</td>\n",
       "      <td>1.078878</td>\n",
       "      <td>1.132630</td>\n",
       "      <td>1.110951</td>\n",
       "      <td>1.077035</td>\n",
       "      <td>1.041959</td>\n",
       "      <td>1.007642</td>\n",
       "      <td>0.974386</td>\n",
       "      <td>0.942217</td>\n",
       "    </tr>\n",
       "    <tr>\n",
       "      <td>-</td>\n",
       "      <td>0.000336</td>\n",
       "      <td>0.000664</td>\n",
       "      <td>0.000391</td>\n",
       "      <td>0.000844</td>\n",
       "      <td>0.000504</td>\n",
       "      <td>0.001112</td>\n",
       "      <td>0.000666</td>\n",
       "      <td>0.000747</td>\n",
       "      <td>0.002718</td>\n",
       "      <td>0.003412</td>\n",
       "      <td>...</td>\n",
       "      <td>0.002634</td>\n",
       "      <td>0.002470</td>\n",
       "      <td>0.001173</td>\n",
       "      <td>0.000839</td>\n",
       "      <td>0.001153</td>\n",
       "      <td>0.002297</td>\n",
       "      <td>0.005058</td>\n",
       "      <td>0.011361</td>\n",
       "      <td>0.025614</td>\n",
       "      <td>0.057783</td>\n",
       "    </tr>\n",
       "  </tbody>\n",
       "</table>\n",
       "<p>2 rows × 26 columns</p>\n",
       "</div>"
      ],
      "text/plain": [
       "         0         1         2         3         4         5         6   \\\n",
       "+  0.485641  0.351671  0.399518  0.287326  0.323388  0.232246  0.260889   \n",
       "-  0.000336  0.000664  0.000391  0.000844  0.000504  0.001112  0.000666   \n",
       "\n",
       "         7         8         9   ...        16        17        18        19  \\\n",
       "+  0.258661  0.181935  0.143717  ...  0.446583  0.590197  1.078878  1.132630   \n",
       "-  0.000747  0.002718  0.003412  ...  0.002634  0.002470  0.001173  0.000839   \n",
       "\n",
       "         20        21        22        23        24        25  \n",
       "+  1.110951  1.077035  1.041959  1.007642  0.974386  0.942217  \n",
       "-  0.001153  0.002297  0.005058  0.011361  0.025614  0.057783  \n",
       "\n",
       "[2 rows x 26 columns]"
      ]
     },
     "execution_count": 6,
     "metadata": {},
     "output_type": "execute_result"
    }
   ],
   "source": [
    "hmm.FB()"
   ]
  },
  {
   "cell_type": "markdown",
   "metadata": {},
   "source": [
    "# Тест 2"
   ]
  },
  {
   "cell_type": "code",
   "execution_count": 10,
   "metadata": {},
   "outputs": [],
   "source": [
    "pi = {'+': 0.5, '-': 0.5}\n",
    "A = [[0.5, 0.5], [0.5, 0.5]]\n",
    "B = [[0.5, 0.5], [0.51, 0.49]]\n",
    "seq = 'ОРОРОРООРРРРРРРРРРОООООООО'\n",
    "hmm = HMM(pi, A, B, seq, sorted(pi.keys()))\n",
    "hmm.viterbi()"
   ]
  },
  {
   "cell_type": "code",
   "execution_count": 11,
   "metadata": {
    "scrolled": true
   },
   "outputs": [
    {
     "data": {
      "text/plain": [
       "0     -\n",
       "1     +\n",
       "2     -\n",
       "3     +\n",
       "4     -\n",
       "5     +\n",
       "6     -\n",
       "7     -\n",
       "8     +\n",
       "9     +\n",
       "10    +\n",
       "11    +\n",
       "12    +\n",
       "13    +\n",
       "14    +\n",
       "15    +\n",
       "16    +\n",
       "17    +\n",
       "18    -\n",
       "19    -\n",
       "20    -\n",
       "21    -\n",
       "22    -\n",
       "23    -\n",
       "24    -\n",
       "25    -\n",
       "dtype: object"
      ]
     },
     "execution_count": 11,
     "metadata": {},
     "output_type": "execute_result"
    }
   ],
   "source": [
    "hmm.viterbi_matrix.astype(float).idxmax()"
   ]
  },
  {
   "cell_type": "code",
   "execution_count": 12,
   "metadata": {},
   "outputs": [
    {
     "data": {
      "text/html": [
       "<div>\n",
       "<style scoped>\n",
       "    .dataframe tbody tr th:only-of-type {\n",
       "        vertical-align: middle;\n",
       "    }\n",
       "\n",
       "    .dataframe tbody tr th {\n",
       "        vertical-align: top;\n",
       "    }\n",
       "\n",
       "    .dataframe thead th {\n",
       "        text-align: right;\n",
       "    }\n",
       "</style>\n",
       "<table border=\"1\" class=\"dataframe\">\n",
       "  <thead>\n",
       "    <tr style=\"text-align: right;\">\n",
       "      <th></th>\n",
       "      <th>0</th>\n",
       "      <th>1</th>\n",
       "      <th>2</th>\n",
       "      <th>3</th>\n",
       "      <th>4</th>\n",
       "      <th>5</th>\n",
       "      <th>6</th>\n",
       "      <th>7</th>\n",
       "      <th>8</th>\n",
       "      <th>9</th>\n",
       "      <th>...</th>\n",
       "      <th>16</th>\n",
       "      <th>17</th>\n",
       "      <th>18</th>\n",
       "      <th>19</th>\n",
       "      <th>20</th>\n",
       "      <th>21</th>\n",
       "      <th>22</th>\n",
       "      <th>23</th>\n",
       "      <th>24</th>\n",
       "      <th>25</th>\n",
       "    </tr>\n",
       "  </thead>\n",
       "  <tbody>\n",
       "    <tr>\n",
       "      <td>+</td>\n",
       "      <td>0.49505</td>\n",
       "      <td>0.505051</td>\n",
       "      <td>0.49505</td>\n",
       "      <td>0.505051</td>\n",
       "      <td>0.49505</td>\n",
       "      <td>0.505051</td>\n",
       "      <td>0.49505</td>\n",
       "      <td>0.49505</td>\n",
       "      <td>0.505051</td>\n",
       "      <td>0.505051</td>\n",
       "      <td>...</td>\n",
       "      <td>0.505051</td>\n",
       "      <td>0.505051</td>\n",
       "      <td>0.49505</td>\n",
       "      <td>0.49505</td>\n",
       "      <td>0.49505</td>\n",
       "      <td>0.49505</td>\n",
       "      <td>0.49505</td>\n",
       "      <td>0.49505</td>\n",
       "      <td>0.49505</td>\n",
       "      <td>0.49505</td>\n",
       "    </tr>\n",
       "    <tr>\n",
       "      <td>-</td>\n",
       "      <td>0.50495</td>\n",
       "      <td>0.494949</td>\n",
       "      <td>0.50495</td>\n",
       "      <td>0.494949</td>\n",
       "      <td>0.50495</td>\n",
       "      <td>0.494949</td>\n",
       "      <td>0.50495</td>\n",
       "      <td>0.50495</td>\n",
       "      <td>0.494949</td>\n",
       "      <td>0.494949</td>\n",
       "      <td>...</td>\n",
       "      <td>0.494949</td>\n",
       "      <td>0.494949</td>\n",
       "      <td>0.50495</td>\n",
       "      <td>0.50495</td>\n",
       "      <td>0.50495</td>\n",
       "      <td>0.50495</td>\n",
       "      <td>0.50495</td>\n",
       "      <td>0.50495</td>\n",
       "      <td>0.50495</td>\n",
       "      <td>0.50495</td>\n",
       "    </tr>\n",
       "  </tbody>\n",
       "</table>\n",
       "<p>2 rows × 26 columns</p>\n",
       "</div>"
      ],
      "text/plain": [
       "        0         1        2         3        4         5        6        7   \\\n",
       "+  0.49505  0.505051  0.49505  0.505051  0.49505  0.505051  0.49505  0.49505   \n",
       "-  0.50495  0.494949  0.50495  0.494949  0.50495  0.494949  0.50495  0.50495   \n",
       "\n",
       "         8         9   ...        16        17       18       19       20  \\\n",
       "+  0.505051  0.505051  ...  0.505051  0.505051  0.49505  0.49505  0.49505   \n",
       "-  0.494949  0.494949  ...  0.494949  0.494949  0.50495  0.50495  0.50495   \n",
       "\n",
       "        21       22       23       24       25  \n",
       "+  0.49505  0.49505  0.49505  0.49505  0.49505  \n",
       "-  0.50495  0.50495  0.50495  0.50495  0.50495  \n",
       "\n",
       "[2 rows x 26 columns]"
      ]
     },
     "execution_count": 12,
     "metadata": {},
     "output_type": "execute_result"
    }
   ],
   "source": [
    "hmm.FB()"
   ]
  }
 ],
 "metadata": {
  "kernelspec": {
   "display_name": "Python 3",
   "language": "python",
   "name": "python3"
  },
  "language_info": {
   "codemirror_mode": {
    "name": "ipython",
    "version": 3
   },
   "file_extension": ".py",
   "mimetype": "text/x-python",
   "name": "python",
   "nbconvert_exporter": "python",
   "pygments_lexer": "ipython3",
   "version": "3.6.8"
  }
 },
 "nbformat": 4,
 "nbformat_minor": 1
}
